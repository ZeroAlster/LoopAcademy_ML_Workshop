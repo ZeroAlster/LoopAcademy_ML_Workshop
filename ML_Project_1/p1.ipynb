{
 "cells": [
  {
   "cell_type": "markdown",
   "metadata": {
    "id": "BZQTlWbhqLp-"
   },
   "source": [
    "## This The Homework for Loop Academy ML course - Shayan Karimi"
   ]
  },
  {
   "cell_type": "markdown",
   "metadata": {
    "id": "RT6jg4Z2u7EV"
   },
   "source": [
    "## Preprocessing Echocardiogram Dataset ( I put comments and full explainations for each section) & Creating Pipeline for it with KNN model experiment."
   ]
  },
  {
   "cell_type": "code",
   "execution_count": 122,
   "metadata": {
    "colab": {
     "base_uri": "https://localhost:8080/"
    },
    "id": "Cj8m4KdMqFw0",
    "outputId": "b1a6020c-e969-4a60-8911-0252b30c135f"
   },
   "outputs": [
    {
     "name": "stdout",
     "output_type": "stream",
     "text": [
      "Done\n"
     ]
    },
    {
     "name": "stderr",
     "output_type": "stream",
     "text": [
      "b'Skipping line 50: expected 13 fields, saw 14\\n'\n"
     ]
    }
   ],
   "source": [
    "import pandas as pd\n",
    "\n",
    "path=\"https://archive.ics.uci.edu/ml/machine-learning-databases/echocardiogram/echocardiogram.data\"\n",
    "\n",
    "df = pd.read_csv(path,error_bad_lines=False,header=None)   ### we set error_bad_lines == False because all attributes are empty and this line of dataset makes pronlem with the read_csv file\n",
    "print(\"Done\")"
   ]
  },
  {
   "cell_type": "code",
   "execution_count": 123,
   "metadata": {
    "colab": {
     "base_uri": "https://localhost:8080/"
    },
    "id": "fSHbfL7bvaSX",
    "outputId": "7cc6d4f2-1529-4cdf-8817-4154bba1252f"
   },
   "outputs": [
    {
     "data": {
      "text/plain": [
       "(131, 13)"
      ]
     },
     "execution_count": 123,
     "metadata": {
      "tags": []
     },
     "output_type": "execute_result"
    }
   ],
   "source": [
    "df.shape             #### 131 samples and 13 attributes"
   ]
  },
  {
   "cell_type": "code",
   "execution_count": 124,
   "metadata": {
    "id": "ZRFs7dTNyvQ5"
   },
   "outputs": [],
   "source": [
    "### now we set the column names for the dataset according to https://archive.ics.uci.edu/ml/machine-learning-databases/echocardiogram/echocardiogram.names  file\n",
    "column_names=[\"survival\",\"still-alive\",\"age-at-heart-attack\",\"pericardial-effusion\",\"fractional-shortening\",\"epss\",\"lvdd\",\"wall-motion-score\",\"wall-motion-index\",\"mult\",\"name\",\"group\",\"alive-at-1\"]\n",
    "df.columns=column_names"
   ]
  },
  {
   "cell_type": "code",
   "execution_count": 125,
   "metadata": {
    "colab": {
     "base_uri": "https://localhost:8080/",
     "height": 204
    },
    "id": "pApQKbP7yBuh",
    "outputId": "0f22d4e1-4f80-4589-c2c0-843dd3cf487f"
   },
   "outputs": [
    {
     "data": {
      "text/html": [
       "<div>\n",
       "<style scoped>\n",
       "    .dataframe tbody tr th:only-of-type {\n",
       "        vertical-align: middle;\n",
       "    }\n",
       "\n",
       "    .dataframe tbody tr th {\n",
       "        vertical-align: top;\n",
       "    }\n",
       "\n",
       "    .dataframe thead th {\n",
       "        text-align: right;\n",
       "    }\n",
       "</style>\n",
       "<table border=\"1\" class=\"dataframe\">\n",
       "  <thead>\n",
       "    <tr style=\"text-align: right;\">\n",
       "      <th></th>\n",
       "      <th>survival</th>\n",
       "      <th>still-alive</th>\n",
       "      <th>age-at-heart-attack</th>\n",
       "      <th>pericardial-effusion</th>\n",
       "      <th>fractional-shortening</th>\n",
       "      <th>epss</th>\n",
       "      <th>lvdd</th>\n",
       "      <th>wall-motion-score</th>\n",
       "      <th>wall-motion-index</th>\n",
       "      <th>mult</th>\n",
       "      <th>name</th>\n",
       "      <th>group</th>\n",
       "      <th>alive-at-1</th>\n",
       "    </tr>\n",
       "  </thead>\n",
       "  <tbody>\n",
       "    <tr>\n",
       "      <th>0</th>\n",
       "      <td>11</td>\n",
       "      <td>0</td>\n",
       "      <td>71</td>\n",
       "      <td>0</td>\n",
       "      <td>0.260</td>\n",
       "      <td>9</td>\n",
       "      <td>4.600</td>\n",
       "      <td>14</td>\n",
       "      <td>1</td>\n",
       "      <td>1</td>\n",
       "      <td>name</td>\n",
       "      <td>1</td>\n",
       "      <td>0</td>\n",
       "    </tr>\n",
       "    <tr>\n",
       "      <th>1</th>\n",
       "      <td>19</td>\n",
       "      <td>0</td>\n",
       "      <td>72</td>\n",
       "      <td>0</td>\n",
       "      <td>0.380</td>\n",
       "      <td>6</td>\n",
       "      <td>4.100</td>\n",
       "      <td>14</td>\n",
       "      <td>1.700</td>\n",
       "      <td>0.588</td>\n",
       "      <td>name</td>\n",
       "      <td>1</td>\n",
       "      <td>0</td>\n",
       "    </tr>\n",
       "    <tr>\n",
       "      <th>2</th>\n",
       "      <td>16</td>\n",
       "      <td>0</td>\n",
       "      <td>55</td>\n",
       "      <td>0</td>\n",
       "      <td>0.260</td>\n",
       "      <td>4</td>\n",
       "      <td>3.420</td>\n",
       "      <td>14</td>\n",
       "      <td>1</td>\n",
       "      <td>1</td>\n",
       "      <td>name</td>\n",
       "      <td>1</td>\n",
       "      <td>0</td>\n",
       "    </tr>\n",
       "    <tr>\n",
       "      <th>3</th>\n",
       "      <td>57</td>\n",
       "      <td>0</td>\n",
       "      <td>60</td>\n",
       "      <td>0</td>\n",
       "      <td>0.253</td>\n",
       "      <td>12.062</td>\n",
       "      <td>4.603</td>\n",
       "      <td>16</td>\n",
       "      <td>1.450</td>\n",
       "      <td>0.788</td>\n",
       "      <td>name</td>\n",
       "      <td>1</td>\n",
       "      <td>0</td>\n",
       "    </tr>\n",
       "    <tr>\n",
       "      <th>4</th>\n",
       "      <td>19</td>\n",
       "      <td>1</td>\n",
       "      <td>57</td>\n",
       "      <td>0</td>\n",
       "      <td>0.160</td>\n",
       "      <td>22</td>\n",
       "      <td>5.750</td>\n",
       "      <td>18</td>\n",
       "      <td>2.250</td>\n",
       "      <td>0.571</td>\n",
       "      <td>name</td>\n",
       "      <td>1</td>\n",
       "      <td>0</td>\n",
       "    </tr>\n",
       "  </tbody>\n",
       "</table>\n",
       "</div>"
      ],
      "text/plain": [
       "  survival  still-alive age-at-heart-attack  ...  name group alive-at-1\n",
       "0       11            0                  71  ...  name     1          0\n",
       "1       19            0                  72  ...  name     1          0\n",
       "2       16            0                  55  ...  name     1          0\n",
       "3       57            0                  60  ...  name     1          0\n",
       "4       19            1                  57  ...  name     1          0\n",
       "\n",
       "[5 rows x 13 columns]"
      ]
     },
     "execution_count": 125,
     "metadata": {
      "tags": []
     },
     "output_type": "execute_result"
    }
   ],
   "source": [
    "df.head()            "
   ]
  },
  {
   "cell_type": "code",
   "execution_count": 126,
   "metadata": {
    "id": "fBHIilKfyEkc"
   },
   "outputs": [],
   "source": [
    "### since the dataset description menthiond that \"gruop\" attribute is not important we will delete this column\n",
    "df = df.drop('group', 1)"
   ]
  },
  {
   "cell_type": "code",
   "execution_count": 127,
   "metadata": {
    "colab": {
     "base_uri": "https://localhost:8080/",
     "height": 204
    },
    "id": "RbS4MGNy7EAP",
    "outputId": "778165bf-201b-4a93-b42b-8e8831fcaa75"
   },
   "outputs": [
    {
     "data": {
      "text/html": [
       "<div>\n",
       "<style scoped>\n",
       "    .dataframe tbody tr th:only-of-type {\n",
       "        vertical-align: middle;\n",
       "    }\n",
       "\n",
       "    .dataframe tbody tr th {\n",
       "        vertical-align: top;\n",
       "    }\n",
       "\n",
       "    .dataframe thead th {\n",
       "        text-align: right;\n",
       "    }\n",
       "</style>\n",
       "<table border=\"1\" class=\"dataframe\">\n",
       "  <thead>\n",
       "    <tr style=\"text-align: right;\">\n",
       "      <th></th>\n",
       "      <th>survival</th>\n",
       "      <th>still-alive</th>\n",
       "      <th>age-at-heart-attack</th>\n",
       "      <th>pericardial-effusion</th>\n",
       "      <th>fractional-shortening</th>\n",
       "      <th>epss</th>\n",
       "      <th>lvdd</th>\n",
       "      <th>wall-motion-score</th>\n",
       "      <th>wall-motion-index</th>\n",
       "      <th>mult</th>\n",
       "      <th>name</th>\n",
       "      <th>alive-at-1</th>\n",
       "    </tr>\n",
       "  </thead>\n",
       "  <tbody>\n",
       "    <tr>\n",
       "      <th>0</th>\n",
       "      <td>11</td>\n",
       "      <td>0</td>\n",
       "      <td>71</td>\n",
       "      <td>0</td>\n",
       "      <td>0.260</td>\n",
       "      <td>9</td>\n",
       "      <td>4.600</td>\n",
       "      <td>14</td>\n",
       "      <td>1</td>\n",
       "      <td>1</td>\n",
       "      <td>name</td>\n",
       "      <td>0</td>\n",
       "    </tr>\n",
       "    <tr>\n",
       "      <th>1</th>\n",
       "      <td>19</td>\n",
       "      <td>0</td>\n",
       "      <td>72</td>\n",
       "      <td>0</td>\n",
       "      <td>0.380</td>\n",
       "      <td>6</td>\n",
       "      <td>4.100</td>\n",
       "      <td>14</td>\n",
       "      <td>1.700</td>\n",
       "      <td>0.588</td>\n",
       "      <td>name</td>\n",
       "      <td>0</td>\n",
       "    </tr>\n",
       "    <tr>\n",
       "      <th>2</th>\n",
       "      <td>16</td>\n",
       "      <td>0</td>\n",
       "      <td>55</td>\n",
       "      <td>0</td>\n",
       "      <td>0.260</td>\n",
       "      <td>4</td>\n",
       "      <td>3.420</td>\n",
       "      <td>14</td>\n",
       "      <td>1</td>\n",
       "      <td>1</td>\n",
       "      <td>name</td>\n",
       "      <td>0</td>\n",
       "    </tr>\n",
       "    <tr>\n",
       "      <th>3</th>\n",
       "      <td>57</td>\n",
       "      <td>0</td>\n",
       "      <td>60</td>\n",
       "      <td>0</td>\n",
       "      <td>0.253</td>\n",
       "      <td>12.062</td>\n",
       "      <td>4.603</td>\n",
       "      <td>16</td>\n",
       "      <td>1.450</td>\n",
       "      <td>0.788</td>\n",
       "      <td>name</td>\n",
       "      <td>0</td>\n",
       "    </tr>\n",
       "    <tr>\n",
       "      <th>4</th>\n",
       "      <td>19</td>\n",
       "      <td>1</td>\n",
       "      <td>57</td>\n",
       "      <td>0</td>\n",
       "      <td>0.160</td>\n",
       "      <td>22</td>\n",
       "      <td>5.750</td>\n",
       "      <td>18</td>\n",
       "      <td>2.250</td>\n",
       "      <td>0.571</td>\n",
       "      <td>name</td>\n",
       "      <td>0</td>\n",
       "    </tr>\n",
       "  </tbody>\n",
       "</table>\n",
       "</div>"
      ],
      "text/plain": [
       "  survival  still-alive age-at-heart-attack  ...   mult  name alive-at-1\n",
       "0       11            0                  71  ...      1  name          0\n",
       "1       19            0                  72  ...  0.588  name          0\n",
       "2       16            0                  55  ...      1  name          0\n",
       "3       57            0                  60  ...  0.788  name          0\n",
       "4       19            1                  57  ...  0.571  name          0\n",
       "\n",
       "[5 rows x 12 columns]"
      ]
     },
     "execution_count": 127,
     "metadata": {
      "tags": []
     },
     "output_type": "execute_result"
    }
   ],
   "source": [
    "df.head()"
   ]
  },
  {
   "cell_type": "code",
   "execution_count": 128,
   "metadata": {
    "id": "5fz28Ip77HB7"
   },
   "outputs": [],
   "source": [
    "#### since the \"name\" column is just the name of the patient we can delete this column accoridng to the datatset dscription\n",
    "df = df.drop('name', 1)"
   ]
  },
  {
   "cell_type": "code",
   "execution_count": 129,
   "metadata": {
    "colab": {
     "base_uri": "https://localhost:8080/",
     "height": 204
    },
    "id": "IAvWS2Nl7chW",
    "outputId": "0828611b-91c3-4258-a8a2-a258787a2fd0"
   },
   "outputs": [
    {
     "data": {
      "text/html": [
       "<div>\n",
       "<style scoped>\n",
       "    .dataframe tbody tr th:only-of-type {\n",
       "        vertical-align: middle;\n",
       "    }\n",
       "\n",
       "    .dataframe tbody tr th {\n",
       "        vertical-align: top;\n",
       "    }\n",
       "\n",
       "    .dataframe thead th {\n",
       "        text-align: right;\n",
       "    }\n",
       "</style>\n",
       "<table border=\"1\" class=\"dataframe\">\n",
       "  <thead>\n",
       "    <tr style=\"text-align: right;\">\n",
       "      <th></th>\n",
       "      <th>survival</th>\n",
       "      <th>still-alive</th>\n",
       "      <th>age-at-heart-attack</th>\n",
       "      <th>pericardial-effusion</th>\n",
       "      <th>fractional-shortening</th>\n",
       "      <th>epss</th>\n",
       "      <th>lvdd</th>\n",
       "      <th>wall-motion-score</th>\n",
       "      <th>wall-motion-index</th>\n",
       "      <th>mult</th>\n",
       "      <th>alive-at-1</th>\n",
       "    </tr>\n",
       "  </thead>\n",
       "  <tbody>\n",
       "    <tr>\n",
       "      <th>0</th>\n",
       "      <td>11</td>\n",
       "      <td>0</td>\n",
       "      <td>71</td>\n",
       "      <td>0</td>\n",
       "      <td>0.260</td>\n",
       "      <td>9</td>\n",
       "      <td>4.600</td>\n",
       "      <td>14</td>\n",
       "      <td>1</td>\n",
       "      <td>1</td>\n",
       "      <td>0</td>\n",
       "    </tr>\n",
       "    <tr>\n",
       "      <th>1</th>\n",
       "      <td>19</td>\n",
       "      <td>0</td>\n",
       "      <td>72</td>\n",
       "      <td>0</td>\n",
       "      <td>0.380</td>\n",
       "      <td>6</td>\n",
       "      <td>4.100</td>\n",
       "      <td>14</td>\n",
       "      <td>1.700</td>\n",
       "      <td>0.588</td>\n",
       "      <td>0</td>\n",
       "    </tr>\n",
       "    <tr>\n",
       "      <th>2</th>\n",
       "      <td>16</td>\n",
       "      <td>0</td>\n",
       "      <td>55</td>\n",
       "      <td>0</td>\n",
       "      <td>0.260</td>\n",
       "      <td>4</td>\n",
       "      <td>3.420</td>\n",
       "      <td>14</td>\n",
       "      <td>1</td>\n",
       "      <td>1</td>\n",
       "      <td>0</td>\n",
       "    </tr>\n",
       "    <tr>\n",
       "      <th>3</th>\n",
       "      <td>57</td>\n",
       "      <td>0</td>\n",
       "      <td>60</td>\n",
       "      <td>0</td>\n",
       "      <td>0.253</td>\n",
       "      <td>12.062</td>\n",
       "      <td>4.603</td>\n",
       "      <td>16</td>\n",
       "      <td>1.450</td>\n",
       "      <td>0.788</td>\n",
       "      <td>0</td>\n",
       "    </tr>\n",
       "    <tr>\n",
       "      <th>4</th>\n",
       "      <td>19</td>\n",
       "      <td>1</td>\n",
       "      <td>57</td>\n",
       "      <td>0</td>\n",
       "      <td>0.160</td>\n",
       "      <td>22</td>\n",
       "      <td>5.750</td>\n",
       "      <td>18</td>\n",
       "      <td>2.250</td>\n",
       "      <td>0.571</td>\n",
       "      <td>0</td>\n",
       "    </tr>\n",
       "  </tbody>\n",
       "</table>\n",
       "</div>"
      ],
      "text/plain": [
       "  survival  still-alive age-at-heart-attack  ...  wall-motion-index   mult alive-at-1\n",
       "0       11            0                  71  ...                  1      1          0\n",
       "1       19            0                  72  ...              1.700  0.588          0\n",
       "2       16            0                  55  ...                  1      1          0\n",
       "3       57            0                  60  ...              1.450  0.788          0\n",
       "4       19            1                  57  ...              2.250  0.571          0\n",
       "\n",
       "[5 rows x 11 columns]"
      ]
     },
     "execution_count": 129,
     "metadata": {
      "tags": []
     },
     "output_type": "execute_result"
    }
   ],
   "source": [
    "#### now lets see the final dataset\n",
    "df.head()"
   ]
  },
  {
   "cell_type": "code",
   "execution_count": 130,
   "metadata": {
    "colab": {
     "base_uri": "https://localhost:8080/"
    },
    "id": "UTYKTl347ivT",
    "outputId": "2ad026a8-e984-4e8a-b277-ac4f91c6650b"
   },
   "outputs": [
    {
     "data": {
      "text/plain": [
       "(131, 11)"
      ]
     },
     "execution_count": 130,
     "metadata": {
      "tags": []
     },
     "output_type": "execute_result"
    }
   ],
   "source": [
    "### see dataset dimension\n",
    "df.shape                                 ### final correct dataset shape"
   ]
  },
  {
   "cell_type": "markdown",
   "metadata": {
    "id": "QQ6KMWzYTaay"
   },
   "source": [
    "## handling Missing values in each Column"
   ]
  },
  {
   "cell_type": "code",
   "execution_count": 131,
   "metadata": {
    "id": "rlvSnUgpDgd5"
   },
   "outputs": [],
   "source": [
    "### now we want to handle the missing data lets look that how many data in our label is missing !\n",
    "df_label_lost=df[df[\"alive-at-1\"]=='?']"
   ]
  },
  {
   "cell_type": "code",
   "execution_count": 132,
   "metadata": {
    "colab": {
     "base_uri": "https://localhost:8080/"
    },
    "id": "UoA2tHfTEHfJ",
    "outputId": "70930c57-e87b-4bb6-8cff-76e73c658312"
   },
   "outputs": [
    {
     "data": {
      "text/plain": [
       "(57, 11)"
      ]
     },
     "execution_count": 132,
     "metadata": {
      "tags": []
     },
     "output_type": "execute_result"
    }
   ],
   "source": [
    "df_label_lost.shape        ### so we had 57 lost label -- from 131 smaple whcih is alot and we can not replace it easily it is better to remove the rows with missing labels"
   ]
  },
  {
   "cell_type": "code",
   "execution_count": 133,
   "metadata": {
    "id": "KPUtboz0jvVy"
   },
   "outputs": [],
   "source": [
    "### first we are going to replcae every \"?\" with Nan which makes computaion in pandas much more easier\n",
    "import numpy as np\n",
    "\n",
    "df=df.replace({'?':np.nan}).dropna(subset=[\"alive-at-1\"])\n",
    "\n",
    "### after removing empty price rows we should reset indexes\n",
    "df.reset_index(drop = True, inplace = True)"
   ]
  },
  {
   "cell_type": "code",
   "execution_count": 134,
   "metadata": {
    "colab": {
     "base_uri": "https://localhost:8080/"
    },
    "id": "-Vx3gDBA6kI6",
    "outputId": "7f7c02c0-ecd2-49c2-ac91-485b16e9cd34"
   },
   "outputs": [
    {
     "data": {
      "text/plain": [
       "(74, 11)"
      ]
     },
     "execution_count": 134,
     "metadata": {
      "tags": []
     },
     "output_type": "execute_result"
    }
   ],
   "source": [
    "df.shape ## after removing the empty label cells"
   ]
  },
  {
   "cell_type": "code",
   "execution_count": 135,
   "metadata": {
    "colab": {
     "base_uri": "https://localhost:8080/"
    },
    "id": "GUdnFIrT65sV",
    "outputId": "6df00e43-8ce8-4ab7-8f2e-794ff8d0e550"
   },
   "outputs": [
    {
     "name": "stdout",
     "output_type": "stream",
     "text": [
      "survival\n",
      "False    73\n",
      "True      1\n",
      "Name: survival, dtype: int64\n",
      "********************\n",
      "still-alive\n",
      "False    74\n",
      "Name: still-alive, dtype: int64\n",
      "********************\n",
      "age-at-heart-attack\n",
      "False    73\n",
      "True      1\n",
      "Name: age-at-heart-attack, dtype: int64\n",
      "********************\n",
      "pericardial-effusion\n",
      "False    74\n",
      "Name: pericardial-effusion, dtype: int64\n",
      "********************\n",
      "fractional-shortening\n",
      "False    70\n",
      "True      4\n",
      "Name: fractional-shortening, dtype: int64\n",
      "********************\n",
      "epss\n",
      "False    66\n",
      "True      8\n",
      "Name: epss, dtype: int64\n",
      "********************\n",
      "lvdd\n",
      "False    68\n",
      "True      6\n",
      "Name: lvdd, dtype: int64\n",
      "********************\n",
      "wall-motion-score\n",
      "False    73\n",
      "True      1\n",
      "Name: wall-motion-score, dtype: int64\n",
      "********************\n",
      "wall-motion-index\n",
      "False    73\n",
      "True      1\n",
      "Name: wall-motion-index, dtype: int64\n",
      "********************\n",
      "mult\n",
      "False    73\n",
      "True      1\n",
      "Name: mult, dtype: int64\n",
      "********************\n",
      "alive-at-1\n",
      "False    74\n",
      "Name: alive-at-1, dtype: int64\n",
      "********************\n"
     ]
    }
   ],
   "source": [
    "############ now lets handle the other columns missing values.\n",
    "\n",
    "missing_data=df.isnull()\n",
    "\n",
    "'''\n",
    "Count missing values in each column  \n",
    "'''\n",
    "\n",
    "for col in missing_data.columns.values.tolist():\n",
    "  print(col)\n",
    "  print(missing_data[col].value_counts())\n",
    "  print(\"*\"*20)\n"
   ]
  },
  {
   "cell_type": "code",
   "execution_count": 136,
   "metadata": {
    "id": "IlTGalgH-oZY"
   },
   "outputs": [],
   "source": [
    "##  for survival attribute becuase we just have one missing data and it is numberical using mean mdeian is a good choice\n",
    "'''\n",
    "Here we can also use the above method directly but for using SimpleImpute i do it for my practice!\n",
    "'''\n",
    "\n",
    "\n",
    "from sklearn.impute import SimpleImputer\n",
    "imp1 = SimpleImputer(missing_values=np.nan, strategy='mean')                                      \n",
    "df['survival'] = imp1.fit_transform(df['survival'].to_numpy().reshape(-1,1))         "
   ]
  },
  {
   "cell_type": "code",
   "execution_count": 137,
   "metadata": {
    "colab": {
     "base_uri": "https://localhost:8080/"
    },
    "id": "JdQOErTI_j4P",
    "outputId": "9f208786-ed25-40e5-c2d1-b9d8442999f5"
   },
   "outputs": [
    {
     "data": {
      "text/plain": [
       "False    74\n",
       "Name: survival, dtype: int64"
      ]
     },
     "execution_count": 137,
     "metadata": {
      "tags": []
     },
     "output_type": "execute_result"
    }
   ],
   "source": [
    "missing_data=df.isnull()\n",
    "missing_data[\"survival\"].value_counts()           ## we correct that missng value by the mean of others"
   ]
  },
  {
   "cell_type": "code",
   "execution_count": 138,
   "metadata": {
    "id": "vrNUU_nl_9Ac"
   },
   "outputs": [],
   "source": [
    "### for age-at-heart-attack attribute we use median since it is numberical\n",
    "imp2 = SimpleImputer(missing_values=np.nan, strategy='median')\n",
    "df['age-at-heart-attack'] = imp2.fit_transform(df['age-at-heart-attack'].to_numpy().reshape(-1,1)) "
   ]
  },
  {
   "cell_type": "code",
   "execution_count": 139,
   "metadata": {
    "colab": {
     "base_uri": "https://localhost:8080/"
    },
    "id": "yPqGrv4_ArL6",
    "outputId": "4a1b077e-8298-4f6f-b499-e24edc695484"
   },
   "outputs": [
    {
     "data": {
      "text/plain": [
       "False    74\n",
       "Name: age-at-heart-attack, dtype: int64"
      ]
     },
     "execution_count": 139,
     "metadata": {
      "tags": []
     },
     "output_type": "execute_result"
    }
   ],
   "source": [
    "missing_data=df.isnull()\n",
    "missing_data[\"age-at-heart-attack\"].value_counts()           ## we correct that missng value by using the median"
   ]
  },
  {
   "cell_type": "code",
   "execution_count": 140,
   "metadata": {
    "id": "ZUdkFJ1BA2KX"
   },
   "outputs": [],
   "source": [
    "## for fractional-shortening attribute we use mean\n",
    "imp3 = SimpleImputer(missing_values=np.nan, strategy='mean')                                      \n",
    "df['fractional-shortening'] = imp3.fit_transform(df['fractional-shortening'].to_numpy().reshape(-1,1)) "
   ]
  },
  {
   "cell_type": "code",
   "execution_count": 141,
   "metadata": {
    "colab": {
     "base_uri": "https://localhost:8080/"
    },
    "id": "RvWz5jc_BsGt",
    "outputId": "a3c3a761-8d5c-4346-d433-39f408f01082"
   },
   "outputs": [
    {
     "data": {
      "text/plain": [
       "False    74\n",
       "Name: fractional-shortening, dtype: int64"
      ]
     },
     "execution_count": 141,
     "metadata": {
      "tags": []
     },
     "output_type": "execute_result"
    }
   ],
   "source": [
    "missing_data=df.isnull()\n",
    "missing_data[\"fractional-shortening\"].value_counts()           ## we correct that missng value by the mean of others"
   ]
  },
  {
   "cell_type": "code",
   "execution_count": 142,
   "metadata": {
    "id": "mnbckOW6B3TS"
   },
   "outputs": [],
   "source": [
    "## for epss we will use most-frequent method\n",
    "imp4 = SimpleImputer(missing_values=np.nan, strategy='most_frequent')                                      \n",
    "df['epss'] = imp4.fit_transform(df['epss'].to_numpy().reshape(-1,1)) "
   ]
  },
  {
   "cell_type": "code",
   "execution_count": 143,
   "metadata": {
    "colab": {
     "base_uri": "https://localhost:8080/"
    },
    "id": "Sc810DPwCcU3",
    "outputId": "ae35395b-bc38-42cd-ad7d-90487d52b6a9"
   },
   "outputs": [
    {
     "data": {
      "text/plain": [
       "False    74\n",
       "Name: epss, dtype: int64"
      ]
     },
     "execution_count": 143,
     "metadata": {
      "tags": []
     },
     "output_type": "execute_result"
    }
   ],
   "source": [
    "missing_data=df.isnull()\n",
    "missing_data[\"epss\"].value_counts()           ## we correct that missng value by replacing it with most frequent value at that column"
   ]
  },
  {
   "cell_type": "code",
   "execution_count": 144,
   "metadata": {
    "id": "pIzfs9euCyZj"
   },
   "outputs": [],
   "source": [
    "## for lvdd attribute we use mean method for replacing missing values\n",
    "imp5 = SimpleImputer(missing_values=np.nan, strategy='mean')                                      \n",
    "df['lvdd'] = imp5.fit_transform(df['lvdd'].to_numpy().reshape(-1,1)) "
   ]
  },
  {
   "cell_type": "code",
   "execution_count": 145,
   "metadata": {
    "colab": {
     "base_uri": "https://localhost:8080/"
    },
    "id": "Q82LJFH_DTQj",
    "outputId": "9cdcc98a-1db2-4f35-8198-64cc5458744e"
   },
   "outputs": [
    {
     "data": {
      "text/plain": [
       "False    74\n",
       "Name: lvdd, dtype: int64"
      ]
     },
     "execution_count": 145,
     "metadata": {
      "tags": []
     },
     "output_type": "execute_result"
    }
   ],
   "source": [
    "missing_data=df.isnull()\n",
    "missing_data[\"lvdd\"].value_counts()           ## we correct that missng value by the mean of others"
   ]
  },
  {
   "cell_type": "code",
   "execution_count": 146,
   "metadata": {
    "id": "pKDUCZBpDaX5"
   },
   "outputs": [],
   "source": [
    "## for wall-motion-score attribute we use mean method for replacing missing values\n",
    "imp6 = SimpleImputer(missing_values=np.nan, strategy='mean')                                      \n",
    "df['wall-motion-score'] = imp6.fit_transform(df['wall-motion-score'].to_numpy().reshape(-1,1)) "
   ]
  },
  {
   "cell_type": "code",
   "execution_count": 147,
   "metadata": {
    "colab": {
     "base_uri": "https://localhost:8080/"
    },
    "id": "H3cvc__VEHNF",
    "outputId": "61100758-7a24-4194-d2f5-3686daebd85f"
   },
   "outputs": [
    {
     "data": {
      "text/plain": [
       "False    74\n",
       "Name: wall-motion-score, dtype: int64"
      ]
     },
     "execution_count": 147,
     "metadata": {
      "tags": []
     },
     "output_type": "execute_result"
    }
   ],
   "source": [
    "missing_data=df.isnull()\n",
    "missing_data[\"wall-motion-score\"].value_counts()           ## we correct that missng value by the mean of others"
   ]
  },
  {
   "cell_type": "code",
   "execution_count": 148,
   "metadata": {
    "id": "-7Tgv_VDEMba"
   },
   "outputs": [],
   "source": [
    "## for wall-motion-index attribute we use mean method for replacing missing values\n",
    "imp7 = SimpleImputer(missing_values=np.nan, strategy='mean')                                      \n",
    "df['wall-motion-index'] = imp7.fit_transform(df['wall-motion-index'].to_numpy().reshape(-1,1)) "
   ]
  },
  {
   "cell_type": "code",
   "execution_count": 149,
   "metadata": {
    "colab": {
     "base_uri": "https://localhost:8080/"
    },
    "id": "uDUHxqmnEXN0",
    "outputId": "3c09738a-da97-48df-fa3f-8c68cc3ec0f8"
   },
   "outputs": [
    {
     "data": {
      "text/plain": [
       "False    74\n",
       "Name: wall-motion-index, dtype: int64"
      ]
     },
     "execution_count": 149,
     "metadata": {
      "tags": []
     },
     "output_type": "execute_result"
    }
   ],
   "source": [
    "missing_data=df.isnull()\n",
    "missing_data[\"wall-motion-index\"].value_counts()           ## we correct that missng value by the mean of others"
   ]
  },
  {
   "cell_type": "code",
   "execution_count": 150,
   "metadata": {
    "id": "CYBfrPazEaLn"
   },
   "outputs": [],
   "source": [
    "## for mult attribute we use mean method for replacing missing values\n",
    "imp8 = SimpleImputer(missing_values=np.nan, strategy='mean')                                      \n",
    "df['mult'] = imp8.fit_transform(df['mult'].to_numpy().reshape(-1,1)) "
   ]
  },
  {
   "cell_type": "code",
   "execution_count": 151,
   "metadata": {
    "colab": {
     "base_uri": "https://localhost:8080/"
    },
    "id": "62PDfAQ6Esph",
    "outputId": "98d3a3d4-b6aa-43cb-c8e9-0b78aa0a17a7"
   },
   "outputs": [
    {
     "data": {
      "text/plain": [
       "False    74\n",
       "Name: mult, dtype: int64"
      ]
     },
     "execution_count": 151,
     "metadata": {
      "tags": []
     },
     "output_type": "execute_result"
    }
   ],
   "source": [
    "missing_data=df.isnull()\n",
    "missing_data[\"mult\"].value_counts()           ## we correct that missng value by the mean of others"
   ]
  },
  {
   "cell_type": "code",
   "execution_count": 152,
   "metadata": {
    "colab": {
     "base_uri": "https://localhost:8080/"
    },
    "id": "wL_3gKW5HkQW",
    "outputId": "190f42fa-4735-4223-9af6-654a7d9bca5f"
   },
   "outputs": [
    {
     "data": {
      "text/plain": [
       "survival                 float64\n",
       "still-alive                int64\n",
       "age-at-heart-attack      float64\n",
       "pericardial-effusion       int64\n",
       "fractional-shortening    float64\n",
       "epss                      object\n",
       "lvdd                     float64\n",
       "wall-motion-score        float64\n",
       "wall-motion-index        float64\n",
       "mult                     float64\n",
       "alive-at-1                object\n",
       "dtype: object"
      ]
     },
     "execution_count": 152,
     "metadata": {
      "tags": []
     },
     "output_type": "execute_result"
    }
   ],
   "source": [
    "df.dtypes   ### for epss we need to change its type"
   ]
  },
  {
   "cell_type": "code",
   "execution_count": 153,
   "metadata": {
    "id": "Q2h-P9QvIxCs"
   },
   "outputs": [],
   "source": [
    "df[\"epss\"] = pd.to_numeric(df[\"epss\"])"
   ]
  },
  {
   "cell_type": "code",
   "execution_count": 154,
   "metadata": {
    "id": "_stMLDziEw5o"
   },
   "outputs": [],
   "source": [
    "### Now lets convert our data frame into numpy array\n",
    "\n",
    "y=df.pop(\"alive-at-1\")\n",
    "x=df"
   ]
  },
  {
   "cell_type": "code",
   "execution_count": 155,
   "metadata": {
    "colab": {
     "base_uri": "https://localhost:8080/"
    },
    "id": "bwgvk1gvGY0E",
    "outputId": "0dc04600-c5c1-44ba-924a-789d7ea3c9b9"
   },
   "outputs": [
    {
     "data": {
      "text/plain": [
       "(74,)"
      ]
     },
     "execution_count": 155,
     "metadata": {
      "tags": []
     },
     "output_type": "execute_result"
    }
   ],
   "source": [
    "y.shape"
   ]
  },
  {
   "cell_type": "code",
   "execution_count": 156,
   "metadata": {
    "colab": {
     "base_uri": "https://localhost:8080/"
    },
    "id": "MK_87HtFGbKm",
    "outputId": "578bf613-0c44-49b8-9357-3a08319b38fe"
   },
   "outputs": [
    {
     "data": {
      "text/plain": [
       "(74, 10)"
      ]
     },
     "execution_count": 156,
     "metadata": {
      "tags": []
     },
     "output_type": "execute_result"
    }
   ],
   "source": [
    "x.shape"
   ]
  },
  {
   "cell_type": "code",
   "execution_count": 157,
   "metadata": {
    "id": "GGjr7MFIGc3v"
   },
   "outputs": [],
   "source": [
    "y_full=np.asarray(y)\n",
    "x_full=np.asarray(x)"
   ]
  },
  {
   "cell_type": "code",
   "execution_count": 158,
   "metadata": {
    "colab": {
     "base_uri": "https://localhost:8080/",
     "height": 592
    },
    "id": "vYdCzNI7GosD",
    "outputId": "b707ab95-9e93-4001-8725-1e4f0267e01e"
   },
   "outputs": [
    {
     "data": {
      "image/png": "[encoded data removed]",
      "text/plain": [
       "<Figure size 720x720 with 1 Axes>"
      ]
     },
     "metadata": {
      "needs_background": "light",
      "tags": []
     },
     "output_type": "display_data"
    }
   ],
   "source": [
    "import matplotlib.pyplot as plt\n",
    "\n",
    "plt.figure(figsize=(10, 10))\n",
    "plt.scatter(x_full[:, 0], x_full[:, 1], c=y_full);"
   ]
  },
  {
   "cell_type": "code",
   "execution_count": 159,
   "metadata": {
    "colab": {
     "base_uri": "https://localhost:8080/",
     "height": 592
    },
    "id": "9nLeR1l2G9Pb",
    "outputId": "e7bc112f-5dfa-4008-9ce9-1f1c1971bb4c"
   },
   "outputs": [
    {
     "data": {
      "image/png": "[encoded data removed]",
      "text/plain": [
       "<Figure size 720x720 with 1 Axes>"
      ]
     },
     "metadata": {
      "needs_background": "light",
      "tags": []
     },
     "output_type": "display_data"
    }
   ],
   "source": [
    "plt.figure(figsize=(10, 10))\n",
    "plt.scatter(x_full[:, 2], x_full[:, 1], c=y_full);"
   ]
  },
  {
   "cell_type": "code",
   "execution_count": 161,
   "metadata": {
    "colab": {
     "base_uri": "https://localhost:8080/"
    },
    "id": "5zm6-bSFHDZ9",
    "outputId": "a8b57627-4b4d-4042-a95c-3e019a9dd4de"
   },
   "outputs": [
    {
     "data": {
      "text/plain": [
       "array([21.78123288,  0.39189189, 64.33147297,  0.2027027 ,  0.21905714,\n",
       "       11.217     ,  4.78591176, 15.34808219,  1.43379452,  0.77693151])"
      ]
     },
     "execution_count": 161,
     "metadata": {
      "tags": []
     },
     "output_type": "execute_result"
    }
   ],
   "source": [
    "x_full.mean(axis=0)\n"
   ]
  },
  {
   "cell_type": "code",
   "execution_count": 162,
   "metadata": {
    "colab": {
     "base_uri": "https://localhost:8080/"
    },
    "id": "gmYhfmkdJZHi",
    "outputId": "cbecc4c1-9258-4787-da6b-62ef2794a7bb"
   },
   "outputs": [
    {
     "data": {
      "text/plain": [
       "array([3.08107259e+02, 2.38312637e-01, 6.77572046e+01, 1.61614317e-01,\n",
       "       1.15431050e-02, 6.16891421e+01, 5.34849641e-01, 3.04893477e+01,\n",
       "       2.07964404e-01, 2.98974954e-02])"
      ]
     },
     "execution_count": 162,
     "metadata": {
      "tags": []
     },
     "output_type": "execute_result"
    }
   ],
   "source": [
    "x_full.var(axis=0)"
   ]
  },
  {
   "cell_type": "markdown",
   "metadata": {
    "id": "QVtm9B09Tj9K"
   },
   "source": [
    "## Standardization Step"
   ]
  },
  {
   "cell_type": "code",
   "execution_count": 171,
   "metadata": {
    "id": "sgAMvKr8JbN-"
   },
   "outputs": [],
   "source": [
    "### here we are going to use RobustScaler becuase we have outlier data in some columns\n",
    "#### RobustScaler method  ==> we can handle outlier and also normalize\n",
    "### Quantiles are important here\n",
    "from sklearn.preprocessing import RobustScaler\n",
    "\n",
    "rbscaler = RobustScaler(quantile_range=(45, 55)).fit(x_full)\n",
    "x_rb=rbscaler.transform(x_full)"
   ]
  },
  {
   "cell_type": "code",
   "execution_count": 172,
   "metadata": {
    "colab": {
     "base_uri": "https://localhost:8080/"
    },
    "id": "6I9p8ifKKbj1",
    "outputId": "05072ca8-5326-4ac9-ad50-7783db19f5b3"
   },
   "outputs": [
    {
     "data": {
      "text/plain": [
       "array([ 6.77077626e-01,  3.91891892e-01,  1.33147297e+00,  2.02702703e-01,\n",
       "       -4.08081977e-16,  8.48083624e-01,  5.34174062e-01,  1.34808219e+00,\n",
       "        6.36257438e-01, -7.25479452e-01])"
      ]
     },
     "execution_count": 172,
     "metadata": {
      "tags": []
     },
     "output_type": "execute_result"
    }
   ],
   "source": [
    "x_rb.mean(axis=0)"
   ]
  },
  {
   "cell_type": "code",
   "execution_count": 173,
   "metadata": {
    "colab": {
     "base_uri": "https://localhost:8080/"
    },
    "id": "xYZxApjiLz4k",
    "outputId": "58051737-21ae-4dd1-863e-f5d73e6df4c7"
   },
   "outputs": [
    {
     "data": {
      "text/plain": [
       "array([3.42341399e+01, 2.38312637e-01, 6.77572046e+01, 1.61614317e-01,\n",
       "       4.01775307e+01, 2.99574559e+01, 1.49869652e+01, 3.04893477e+01,\n",
       "       1.10479267e+01, 1.91343970e+02])"
      ]
     },
     "execution_count": 173,
     "metadata": {
      "tags": []
     },
     "output_type": "execute_result"
    }
   ],
   "source": [
    "x_rb.var(axis=0)"
   ]
  },
  {
   "cell_type": "markdown",
   "metadata": {
    "id": "RzQLoH_fTo6s"
   },
   "source": [
    "## Normalization Step"
   ]
  },
  {
   "cell_type": "code",
   "execution_count": 175,
   "metadata": {
    "id": "V3glhSXLL5j6"
   },
   "outputs": [],
   "source": [
    "### now we want to go to next stage and normalize our data\n",
    "\n",
    "from sklearn.preprocessing import Normalizer, normalize\n",
    "from numpy.linalg import norm\n",
    "\n",
    "nrm = Normalizer(norm='l2').fit(x_rb)\n",
    "\n",
    "x_rb_nrm = nrm.transform(x_rb)              ###  now we normalize our robustscaler x data with Norm 2"
   ]
  },
  {
   "cell_type": "code",
   "execution_count": 176,
   "metadata": {
    "colab": {
     "base_uri": "https://localhost:8080/",
     "height": 592
    },
    "id": "9BjE_RBnMxe0",
    "outputId": "a1071dfc-79eb-4db0-e38b-b9a0fde2131c"
   },
   "outputs": [
    {
     "data": {
      "image/png": "[encoded data removed]",
      "text/plain": [
       "<Figure size 720x720 with 1 Axes>"
      ]
     },
     "metadata": {
      "needs_background": "light",
      "tags": []
     },
     "output_type": "display_data"
    }
   ],
   "source": [
    "plt.figure(figsize=(10, 10))\n",
    "plt.scatter(x_rb_nrm[:, 4], x_rb_nrm[:, 1], c=y_full);"
   ]
  },
  {
   "cell_type": "markdown",
   "metadata": {
    "id": "PCK-4ZaMTu3t"
   },
   "source": [
    "##PCA Step"
   ]
  },
  {
   "cell_type": "code",
   "execution_count": 177,
   "metadata": {
    "id": "ghfWdbpwNGiE"
   },
   "outputs": [],
   "source": [
    "##### Now are going to PCA for dimension reduction\n",
    "\n",
    "from sklearn.decomposition import PCA"
   ]
  },
  {
   "cell_type": "code",
   "execution_count": 178,
   "metadata": {
    "id": "katyrOxeOjL3"
   },
   "outputs": [],
   "source": [
    "pca = PCA(n_components=0.96).fit(x_rb_nrm)     ### we are doing pca on our scaled normalized data"
   ]
  },
  {
   "cell_type": "code",
   "execution_count": 179,
   "metadata": {
    "id": "FFKvdtgoOyDY"
   },
   "outputs": [],
   "source": [
    "x_rb_nrm_pca = pca.transform(x_rb_nrm)"
   ]
  },
  {
   "cell_type": "code",
   "execution_count": 180,
   "metadata": {
    "colab": {
     "base_uri": "https://localhost:8080/"
    },
    "id": "ufyziMJDO6VO",
    "outputId": "3a499707-0ec4-44b6-b3cf-59ccb944b602"
   },
   "outputs": [
    {
     "data": {
      "text/plain": [
       "(74, 6)"
      ]
     },
     "execution_count": 180,
     "metadata": {
      "tags": []
     },
     "output_type": "execute_result"
    }
   ],
   "source": [
    "x_rb_nrm_pca.shape          ### we can see that if we want to resotre the 96 percent info we can delete 4 attributes"
   ]
  },
  {
   "cell_type": "code",
   "execution_count": 183,
   "metadata": {
    "colab": {
     "base_uri": "https://localhost:8080/",
     "height": 592
    },
    "id": "fZbKnr-YPlF7",
    "outputId": "cca8ca9d-2152-4924-e7ef-ce558cea8f1d"
   },
   "outputs": [
    {
     "data": {
      "image/png": "[encoded data removed]",
      "text/plain": [
       "<Figure size 720x720 with 1 Axes>"
      ]
     },
     "metadata": {
      "needs_background": "light",
      "tags": []
     },
     "output_type": "display_data"
    }
   ],
   "source": [
    "plt.figure(figsize=(10, 10))\n",
    "plt.scatter(x_full[:, 0], x_full[:, 1], c=y_full);\n",
    "#### with Out pCA"
   ]
  },
  {
   "cell_type": "code",
   "execution_count": 185,
   "metadata": {
    "colab": {
     "base_uri": "https://localhost:8080/",
     "height": 606
    },
    "id": "KA96-tuoPBIQ",
    "outputId": "467e9a03-8858-4894-9679-b65995478d45"
   },
   "outputs": [
    {
     "data": {
      "image/png": "[encoded data removed]",
      "text/plain": [
       "<Figure size 720x720 with 1 Axes>"
      ]
     },
     "metadata": {
      "needs_background": "light",
      "tags": []
     },
     "output_type": "display_data"
    }
   ],
   "source": [
    "plt.figure(figsize=(10, 10))\n",
    "plt.scatter(x_rb_nrm_pca[:, 0], x_rb_nrm_pca[:, 1], c=y_full);\n",
    "\n",
    "plt.xlabel('PCA 1');\n",
    "plt.ylabel('PCA 2');\n",
    "\n",
    "#with PCA"
   ]
  },
  {
   "cell_type": "markdown",
   "metadata": {
    "id": "cvHp7TWsTyiQ"
   },
   "source": [
    "## Final Pipeline Step"
   ]
  },
  {
   "cell_type": "code",
   "execution_count": 195,
   "metadata": {
    "id": "D2weQkL9P-AK"
   },
   "outputs": [],
   "source": [
    "### Now We want to create the Final PipeLine and Mix all step above together\n",
    "### For example we want to use KNN Algorithm for our model\n",
    "\n",
    "from sklearn.pipeline import Pipeline\n",
    "from sklearn.neighbors import KNeighborsClassifier as KNN\n",
    "from sklearn.model_selection import train_test_split\n",
    "\n",
    "x_train, x_test, y_train, y_test = train_test_split(x_full, y_full, test_size=0.2)\n",
    "\n",
    "steps = [('Standardization', RobustScaler(quantile_range=(45, 55))),\n",
    "         ('Normalization',Normalizer(norm='l2')), \n",
    "         ('dimension redoction', PCA(n_components=5)),\n",
    "         ('Classifier', KNN(n_neighbors=5))]\n",
    "\n",
    "pipeline = Pipeline(steps).fit(x_train,y_train)\n"
   ]
  },
  {
   "cell_type": "code",
   "execution_count": 196,
   "metadata": {
    "id": "jfFDRM0bS_oa"
   },
   "outputs": [],
   "source": [
    "y_pred = pipeline.predict(x_test)"
   ]
  },
  {
   "cell_type": "markdown",
   "metadata": {
    "id": "olUbXb5ET1tw"
   },
   "source": [
    "## Evaluation Step"
   ]
  },
  {
   "cell_type": "code",
   "execution_count": 197,
   "metadata": {
    "colab": {
     "base_uri": "https://localhost:8080/"
    },
    "id": "JmeBDLfxTMkF",
    "outputId": "9f598d34-e677-4391-84d5-b24d743721de"
   },
   "outputs": [
    {
     "name": "stdout",
     "output_type": "stream",
     "text": [
      "accuracy is: 0.8\n"
     ]
    }
   ],
   "source": [
    "acc = 0\n",
    "for i in range(y_pred.shape[0]):\n",
    "    if y_pred[i] == y_test[i]:\n",
    "        acc += 1\n",
    "acc /= y_pred.shape[0]\n",
    "\n",
    "print('accuracy is: {}'.format(acc))                  #### 80% is our accuracy"
   ]
  }
 ],
 "metadata": {
  "colab": {
   "collapsed_sections": [],
   "name": "ML_LoopAcademy_Hw.ipynb",
   "provenance": []
  },
  "kernelspec": {
   "display_name": "Python 3",
   "language": "python",
   "name": "python3"
  },
  "language_info": {
   "codemirror_mode": {
    "name": "ipython",
    "version": 3
   },
   "file_extension": ".py",
   "mimetype": "text/x-python",
   "name": "python",
   "nbconvert_exporter": "python",
   "pygments_lexer": "ipython3",
   "version": "3.8.8"
  }
 },
 "nbformat": 4,
 "nbformat_minor": 1
}
